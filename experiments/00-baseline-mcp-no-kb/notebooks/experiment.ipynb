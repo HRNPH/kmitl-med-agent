{
 "cells": [
  {
   "cell_type": "markdown",
   "id": "b708fbb4",
   "metadata": {},
   "source": [
    "# KMITL Medical Agent Experiment - Setup and Imports\n",
    "\n",
    "This notebook sets up the environment and imports required libraries for the KMITL Medical Agent experiment."
   ]
  },
  {
   "cell_type": "markdown",
   "id": "6fab5c97",
   "metadata": {},
   "source": [
    "## 1. Environment Setup"
   ]
  },
  {
   "cell_type": "code",
   "execution_count": 1,
   "id": "e8661c2d",
   "metadata": {},
   "outputs": [],
   "source": [
    "import os\n",
    "import sys\n",
    "from pathlib import Path"
   ]
  },
  {
   "cell_type": "code",
   "execution_count": 2,
   "id": "de440c12",
   "metadata": {},
   "outputs": [],
   "source": [
    "# Add the current directory to Python path\n",
    "current_dir = Path.cwd()\n",
    "sys.path.insert(0, str(current_dir))"
   ]
  },
  {
   "cell_type": "code",
   "execution_count": 3,
   "id": "e94353ba",
   "metadata": {},
   "outputs": [
    {
     "name": "stdout",
     "output_type": "stream",
     "text": [
      "✓ Environment setup completed\n"
     ]
    }
   ],
   "source": [
    "print(\"✓ Environment setup completed\")"
   ]
  },
  {
   "cell_type": "markdown",
   "id": "876ff1ae",
   "metadata": {},
   "source": [
    "## 2. Install and Import Dependencies"
   ]
  },
  {
   "cell_type": "code",
   "execution_count": 4,
   "id": "e23ff273",
   "metadata": {},
   "outputs": [
    {
     "name": "stdout",
     "output_type": "stream",
     "text": [
      "✓ autogen already installed\n"
     ]
    }
   ],
   "source": [
    "# Install required packages if not already installed\n",
    "try:\n",
    "    import autogen\n",
    "\n",
    "    print(\"✓ autogen already installed\")\n",
    "except ImportError:\n",
    "    print(\"Installing autogen...\")\n",
    "    import subprocess\n",
    "\n",
    "    subprocess.check_call([sys.executable, \"-m\", \"pip\", \"install\", \"pyautogen\"])"
   ]
  },
  {
   "cell_type": "code",
   "execution_count": 5,
   "id": "5694a718",
   "metadata": {},
   "outputs": [
    {
     "name": "stdout",
     "output_type": "stream",
     "text": [
      "✓ pandas already installed\n"
     ]
    }
   ],
   "source": [
    "try:\n",
    "    import pandas as pd\n",
    "\n",
    "    print(\"✓ pandas already installed\")\n",
    "except ImportError:\n",
    "    print(\"Installing pandas...\")\n",
    "    import subprocess\n",
    "\n",
    "    subprocess.check_call([sys.executable, \"-m\", \"pip\", \"install\", \"pandas\"])"
   ]
  },
  {
   "cell_type": "code",
   "execution_count": 6,
   "id": "704164c9",
   "metadata": {},
   "outputs": [],
   "source": [
    "# Import all required libraries\n",
    "import asyncio\n",
    "import json\n",
    "from typing import Dict, Any, List, Optional\n",
    "import autogen\n",
    "from autogen import Agent, AssistantAgent, UserProxyAgent\n",
    "import pandas as pd\n",
    "import aiohttp"
   ]
  },
  {
   "cell_type": "code",
   "execution_count": 7,
   "id": "32718a25",
   "metadata": {},
   "outputs": [
    {
     "name": "stdout",
     "output_type": "stream",
     "text": [
      "✓ All dependencies imported successfully\n"
     ]
    }
   ],
   "source": [
    "print(\"✓ All dependencies imported successfully\")"
   ]
  },
  {
   "cell_type": "markdown",
   "id": "47168abd",
   "metadata": {},
   "source": [
    "## 3. Configuration"
   ]
  },
  {
   "cell_type": "code",
   "execution_count": null,
   "id": "9a8b0a21",
   "metadata": {},
   "outputs": [],
   "source": [
    "# Get environment variables\n",
    "SERVER_URL = \"172.16.30.137\"\n",
    "OLLAMA_API_URL = f\"http://{SERVER_URL}:11434\"\n",
    "MCP_SERVER_URL = f\"http://{SERVER_URL}:3000\"\n",
    "OLLAMA_MODEL = \"llama3.2\""
   ]
  },
  {
   "cell_type": "code",
   "execution_count": null,
   "id": "ad0f16c5",
   "metadata": {},
   "outputs": [],
   "source": [
    "print(f\"Configuration:\")\n",
    "print(f\"  Ollama URL: {OLLAMA_API_URL}\")\n",
    "print(f\"  MCP Server URL: {MCP_SERVER_URL}\")\n",
    "print(f\"  Model: {OLLAMA_MODEL}\")"
   ]
  },
  {
   "cell_type": "markdown",
   "id": "a059f869",
   "metadata": {
    "lines_to_next_cell": 2
   },
   "source": [
    "## 4. Load Test Data"
   ]
  },
  {
   "cell_type": "code",
   "execution_count": null,
   "id": "3508543c",
   "metadata": {},
   "outputs": [],
   "source": [
    "def load_test_data():\n",
    "    \"\"\"Load test data from CSV file\"\"\"\n",
    "    try:\n",
    "        # Navigate to the data directory\n",
    "        data_path = current_dir.parent.parent.parent / \"data\" / \"test.csv\"\n",
    "        if data_path.exists():\n",
    "            df = pd.read_csv(data_path)\n",
    "            print(f\"✓ Loaded {len(df)} test questions from {data_path}\")\n",
    "            return df\n",
    "        else:\n",
    "            print(f\"✗ Test data not found at: {data_path}\")\n",
    "            return pd.DataFrame()\n",
    "    except Exception as e:\n",
    "        print(f\"✗ Error loading test data: {e}\")\n",
    "        return pd.DataFrame()"
   ]
  },
  {
   "cell_type": "code",
   "execution_count": null,
   "id": "404c7d40",
   "metadata": {},
   "outputs": [],
   "source": [
    "# Load the test data\n",
    "test_data = load_test_data()"
   ]
  },
  {
   "cell_type": "code",
   "execution_count": null,
   "id": "db8fc593",
   "metadata": {},
   "outputs": [],
   "source": [
    "if not test_data.empty:\n",
    "    print(f\"Sample questions:\")\n",
    "    for i, row in test_data.head(3).iterrows():\n",
    "        question = (\n",
    "            row.get(\"question\", \"\")[:100] + \"...\"\n",
    "            if len(row.get(\"question\", \"\")) > 100\n",
    "            else row.get(\"question\", \"\")\n",
    "        )\n",
    "        print(f\"  {i+1}. {question}\")"
   ]
  },
  {
   "cell_type": "code",
   "execution_count": null,
   "id": "ce641e58",
   "metadata": {},
   "outputs": [],
   "source": [
    "print(\"\\n✓ Setup and imports completed successfully!\")"
   ]
  },
  {
   "cell_type": "markdown",
   "id": "0b43e3b9",
   "metadata": {},
   "source": [
    "# KMITL Medical Agent Experiment - Setup and Imports\n",
    "\n",
    "This notebook sets up the environment and imports required libraries for the KMITL Medical Agent experiment."
   ]
  },
  {
   "cell_type": "markdown",
   "id": "4963b012",
   "metadata": {},
   "source": [
    "## 1. Environment Setup"
   ]
  },
  {
   "cell_type": "code",
   "execution_count": null,
   "id": "a361fff1",
   "metadata": {},
   "outputs": [],
   "source": [
    "import os\n",
    "import sys\n",
    "from pathlib import Path\n",
    "from dotenv import load_dotenv"
   ]
  },
  {
   "cell_type": "code",
   "execution_count": null,
   "id": "843f457d",
   "metadata": {},
   "outputs": [],
   "source": [
    "# Load environment variables\n",
    "load_dotenv()"
   ]
  },
  {
   "cell_type": "code",
   "execution_count": null,
   "id": "573c15b3",
   "metadata": {},
   "outputs": [],
   "source": [
    "# Add the current directory to Python path\n",
    "current_dir = Path.cwd()\n",
    "sys.path.insert(0, str(current_dir))"
   ]
  },
  {
   "cell_type": "code",
   "execution_count": null,
   "id": "b687f1bb",
   "metadata": {},
   "outputs": [],
   "source": [
    "print(\"✓ Environment setup completed\")"
   ]
  },
  {
   "cell_type": "markdown",
   "id": "5314e6b7",
   "metadata": {},
   "source": [
    "## 2. Install and Import Dependencies"
   ]
  },
  {
   "cell_type": "code",
   "execution_count": null,
   "id": "7951271e",
   "metadata": {},
   "outputs": [],
   "source": [
    "# Install required packages if not already installed\n",
    "try:\n",
    "    import autogen\n",
    "\n",
    "    print(\"✓ autogen already installed\")\n",
    "except ImportError:\n",
    "    print(\"Installing autogen...\")\n",
    "    import subprocess\n",
    "\n",
    "    subprocess.check_call([sys.executable, \"-m\", \"pip\", \"install\", \"pyautogen\"])"
   ]
  },
  {
   "cell_type": "code",
   "execution_count": null,
   "id": "61c5b475",
   "metadata": {},
   "outputs": [],
   "source": [
    "try:\n",
    "    import pandas as pd\n",
    "\n",
    "    print(\"✓ pandas already installed\")\n",
    "except ImportError:\n",
    "    print(\"Installing pandas...\")\n",
    "    import subprocess\n",
    "\n",
    "    subprocess.check_call([sys.executable, \"-m\", \"pip\", \"install\", \"pandas\"])"
   ]
  },
  {
   "cell_type": "code",
   "execution_count": null,
   "id": "a800481f",
   "metadata": {},
   "outputs": [],
   "source": [
    "# Import all required libraries\n",
    "import asyncio\n",
    "import json\n",
    "from typing import Dict, Any, List, Optional\n",
    "import autogen\n",
    "from autogen import Agent, AssistantAgent, UserProxyAgent\n",
    "import pandas as pd\n",
    "import aiohttp"
   ]
  },
  {
   "cell_type": "code",
   "execution_count": null,
   "id": "47d4e70a",
   "metadata": {},
   "outputs": [],
   "source": [
    "print(\"✓ All dependencies imported successfully\")"
   ]
  },
  {
   "cell_type": "markdown",
   "id": "c755cd98",
   "metadata": {},
   "source": [
    "## 3. Configuration"
   ]
  },
  {
   "cell_type": "code",
   "execution_count": null,
   "id": "9b02be58",
   "metadata": {},
   "outputs": [],
   "source": [
    "# Get environment variables\n",
    "OLLAMA_API_URL = os.getenv(\"OLLAMA_API_URL\", \"http://localhost:11434\")\n",
    "MCP_SERVER_URL = os.getenv(\"KMITL_MCP_SERVER_URL\", \"http://localhost:3000\")\n",
    "OLLAMA_MODEL = os.getenv(\"OLLAMA_MODEL\", \"llama3.2\")"
   ]
  },
  {
   "cell_type": "code",
   "execution_count": null,
   "id": "28c268ea",
   "metadata": {},
   "outputs": [],
   "source": [
    "print(f\"Configuration:\")\n",
    "print(f\"  Ollama URL: {OLLAMA_API_URL}\")\n",
    "print(f\"  MCP Server URL: {MCP_SERVER_URL}\")\n",
    "print(f\"  Model: {OLLAMA_MODEL}\")"
   ]
  },
  {
   "cell_type": "markdown",
   "id": "8248f3d9",
   "metadata": {
    "lines_to_next_cell": 2
   },
   "source": [
    "## 4. Load Test Data"
   ]
  },
  {
   "cell_type": "code",
   "execution_count": null,
   "id": "f7e1c649",
   "metadata": {},
   "outputs": [],
   "source": [
    "def load_test_data():\n",
    "    \"\"\"Load test data from CSV file\"\"\"\n",
    "    try:\n",
    "        # Navigate to the data directory\n",
    "        data_path = current_dir.parent.parent.parent / \"data\" / \"test.csv\"\n",
    "        if data_path.exists():\n",
    "            df = pd.read_csv(data_path)\n",
    "            print(f\"✓ Loaded {len(df)} test questions from {data_path}\")\n",
    "            return df\n",
    "        else:\n",
    "            print(f\"✗ Test data not found at: {data_path}\")\n",
    "            return pd.DataFrame()\n",
    "    except Exception as e:\n",
    "        print(f\"✗ Error loading test data: {e}\")\n",
    "        return pd.DataFrame()"
   ]
  },
  {
   "cell_type": "code",
   "execution_count": null,
   "id": "a14724fb",
   "metadata": {},
   "outputs": [],
   "source": [
    "# Load the test data\n",
    "test_data = load_test_data()"
   ]
  },
  {
   "cell_type": "code",
   "execution_count": null,
   "id": "1afbdde1",
   "metadata": {},
   "outputs": [],
   "source": [
    "if not test_data.empty:\n",
    "    print(f\"Sample questions:\")\n",
    "    for i, row in test_data.head(3).iterrows():\n",
    "        question = (\n",
    "            row.get(\"question\", \"\")[:100] + \"...\"\n",
    "            if len(row.get(\"question\", \"\")) > 100\n",
    "            else row.get(\"question\", \"\")\n",
    "        )\n",
    "        print(f\"  {i+1}. {question}\")"
   ]
  },
  {
   "cell_type": "code",
   "execution_count": null,
   "id": "7e642976",
   "metadata": {},
   "outputs": [],
   "source": [
    "print(\"\\n✓ Setup and imports completed successfully!\")"
   ]
  },
  {
   "cell_type": "markdown",
   "id": "c7b7ba41",
   "metadata": {},
   "source": [
    "# MCP Server Integration\n",
    "\n",
    "This notebook implements the Model Context Protocol (MCP) server integration for the KMITL Medical Agent experiment."
   ]
  },
  {
   "cell_type": "markdown",
   "id": "f21e563e",
   "metadata": {
    "lines_to_next_cell": 2
   },
   "source": [
    "## 1. MCP Client Implementation"
   ]
  },
  {
   "cell_type": "code",
   "execution_count": null,
   "id": "1e2619b5",
   "metadata": {
    "lines_to_next_cell": 2
   },
   "outputs": [],
   "source": [
    "class MCPClient:\n",
    "    \"\"\"Simple MCP client for connecting to MCP server\"\"\"\n",
    "\n",
    "    def __init__(self, server_url: str):\n",
    "        self.server_url = server_url\n",
    "        self.session = None\n",
    "\n",
    "    async def connect(self) -> bool:\n",
    "        \"\"\"Connect to MCP server\"\"\"\n",
    "        try:\n",
    "            self.session = aiohttp.ClientSession()\n",
    "\n",
    "            # Test connection\n",
    "            async with self.session.get(f\"{self.server_url}/health\") as response:\n",
    "                if response.status == 200:\n",
    "                    print(f\"✓ Connected to MCP server at {self.server_url}\")\n",
    "                    return True\n",
    "                else:\n",
    "                    print(f\"✗ MCP server returned status {response.status}\")\n",
    "                    return False\n",
    "\n",
    "        except Exception as e:\n",
    "            print(f\"✗ Failed to connect to MCP server: {e}\")\n",
    "            return False\n",
    "\n",
    "    async def disconnect(self):\n",
    "        \"\"\"Disconnect from MCP server\"\"\"\n",
    "        if self.session:\n",
    "            await self.session.close()\n",
    "            self.session = None\n",
    "\n",
    "    async def call_tool(\n",
    "        self, tool_name: str, parameters: Dict[str, Any]\n",
    "    ) -> Dict[str, Any]:\n",
    "        \"\"\"Call a tool on the MCP server\"\"\"\n",
    "        if not self.session:\n",
    "            raise Exception(\"Not connected to MCP server\")\n",
    "\n",
    "        try:\n",
    "            payload = {\"tool\": tool_name, \"parameters\": parameters}\n",
    "\n",
    "            async with self.session.post(\n",
    "                f\"{self.server_url}/tools/call\", json=payload\n",
    "            ) as response:\n",
    "                if response.status == 200:\n",
    "                    return await response.json()\n",
    "                else:\n",
    "                    raise Exception(f\"MCP tool call failed: {response.status}\")\n",
    "\n",
    "        except Exception as e:\n",
    "            print(f\"Error calling MCP tool {tool_name}: {e}\")\n",
    "            return {\"error\": str(e)}\n",
    "\n",
    "    async def get_available_tools(self) -> list:\n",
    "        \"\"\"Get list of available tools from MCP server\"\"\"\n",
    "        if not self.session:\n",
    "            raise Exception(\"Not connected to MCP server\")\n",
    "\n",
    "        try:\n",
    "            async with self.session.get(f\"{self.server_url}/tools/list\") as response:\n",
    "                if response.status == 200:\n",
    "                    return await response.json()\n",
    "                else:\n",
    "                    raise Exception(f\"Failed to get tools list: {response.status}\")\n",
    "\n",
    "        except Exception as e:\n",
    "            print(f\"Error getting available tools: {e}\")\n",
    "            return []"
   ]
  },
  {
   "cell_type": "markdown",
   "id": "e6633466",
   "metadata": {
    "lines_to_next_cell": 2
   },
   "source": [
    "## 2. MCP-Enhanced Agent"
   ]
  },
  {
   "cell_type": "code",
   "execution_count": null,
   "id": "aad3e066",
   "metadata": {},
   "outputs": [],
   "source": [
    "class MCPEnhancedAgent:\n",
    "    \"\"\"Agent enhanced with MCP capabilities\"\"\"\n",
    "\n",
    "    def __init__(self, mcp_url: str, autogen_agents: Dict[str, Any]):\n",
    "        self.mcp_client = MCPClient(mcp_url)\n",
    "        self.agents = autogen_agents\n",
    "        self.connected = False\n",
    "\n",
    "    async def setup(self):\n",
    "        \"\"\"Setup MCP connection\"\"\"\n",
    "        self.connected = await self.mcp_client.connect()\n",
    "        if self.connected:\n",
    "            tools = await self.mcp_client.get_available_tools()\n",
    "            print(f\"Available MCP tools: {tools}\")\n",
    "\n",
    "    async def process_with_mcp(self, question: str) -> str:\n",
    "        \"\"\"Process question using MCP tools\"\"\"\n",
    "        if not self.connected:\n",
    "            return f\"Error: MCP not connected. Question: {question}\"\n",
    "\n",
    "        try:\n",
    "            # Example: Use MCP tool to get medical information\n",
    "            result = await self.mcp_client.call_tool(\n",
    "                \"get_medical_info\", {\"query\": question}\n",
    "            )\n",
    "\n",
    "            if \"error\" in result:\n",
    "                return f\"Error getting medical info: {result['error']}\"\n",
    "            else:\n",
    "                return result.get(\"response\", \"No response from MCP tool\")\n",
    "\n",
    "        except Exception as e:\n",
    "            return f\"Error processing with MCP: {e}\"\n",
    "\n",
    "    async def cleanup(self):\n",
    "        \"\"\"Cleanup MCP connection\"\"\"\n",
    "        await self.mcp_client.disconnect()"
   ]
  },
  {
   "cell_type": "markdown",
   "id": "83f64e6c",
   "metadata": {},
   "source": [
    "## 3. Initialize MCP Integration"
   ]
  },
  {
   "cell_type": "code",
   "execution_count": null,
   "id": "5c5f2cd5",
   "metadata": {},
   "outputs": [],
   "source": [
    "# Create MCP client\n",
    "mcp_client = MCPClient(MCP_SERVER_URL)"
   ]
  },
  {
   "cell_type": "code",
   "execution_count": null,
   "id": "8ca06c1e",
   "metadata": {},
   "outputs": [],
   "source": [
    "# Create MCP-enhanced agent\n",
    "mcp_agent = MCPEnhancedAgent(MCP_SERVER_URL, agents)"
   ]
  },
  {
   "cell_type": "code",
   "execution_count": null,
   "id": "72a775f0",
   "metadata": {},
   "outputs": [],
   "source": [
    "print(\"✓ MCP integration setup completed\")"
   ]
  },
  {
   "cell_type": "markdown",
   "id": "dc5dbbbd",
   "metadata": {
    "lines_to_next_cell": 2
   },
   "source": [
    "## 4. Test MCP Connection"
   ]
  },
  {
   "cell_type": "code",
   "execution_count": null,
   "id": "42e84dc1",
   "metadata": {},
   "outputs": [],
   "source": [
    "async def test_mcp_connection():\n",
    "    \"\"\"Test MCP server connection\"\"\"\n",
    "    print(\"\\nTesting MCP connection...\")\n",
    "\n",
    "    try:\n",
    "        # Test connection\n",
    "        connected = await mcp_client.connect()\n",
    "\n",
    "        if connected:\n",
    "            # Get available tools\n",
    "            tools = await mcp_client.get_available_tools()\n",
    "            print(f\"Available tools: {tools}\")\n",
    "\n",
    "            # Test tool call\n",
    "            if tools:\n",
    "                test_result = await mcp_client.call_tool(\n",
    "                    tools[0], {\"test\": \"parameter\"}  # Use first available tool\n",
    "                )\n",
    "                print(f\"Test tool call result: {test_result}\")\n",
    "\n",
    "            # Cleanup\n",
    "            await mcp_client.disconnect()\n",
    "            return True\n",
    "        else:\n",
    "            print(\"✗ MCP connection failed\")\n",
    "            return False\n",
    "\n",
    "    except Exception as e:\n",
    "        print(f\"✗ MCP test failed: {e}\")\n",
    "        return False"
   ]
  },
  {
   "cell_type": "markdown",
   "id": "db5cc5fc",
   "metadata": {},
   "source": [
    "Test MCP connection (commented out to avoid blocking)\n",
    "await test_mcp_connection()"
   ]
  },
  {
   "cell_type": "code",
   "execution_count": null,
   "id": "01d791e0",
   "metadata": {},
   "outputs": [],
   "source": [
    "print(\"✓ MCP integration ready!\")"
   ]
  },
  {
   "cell_type": "markdown",
   "id": "8c74404b",
   "metadata": {},
   "source": [
    "# Experiment Execution\n",
    "\n",
    "This notebook runs the KMITL Medical Agent experiment with AutoGen agents and MCP integration."
   ]
  },
  {
   "cell_type": "markdown",
   "id": "fcef5578",
   "metadata": {
    "lines_to_next_cell": 2
   },
   "source": [
    "## 1. Main Experiment Class"
   ]
  },
  {
   "cell_type": "code",
   "execution_count": null,
   "id": "940e19cc",
   "metadata": {},
   "outputs": [],
   "source": [
    "class KMITLMedicalAgent:\n",
    "    \"\"\"Main experiment class for KMITL Medical Agent\"\"\"\n",
    "\n",
    "    def __init__(self, test_data, agents, mcp_agent):\n",
    "        self.test_data = test_data\n",
    "        self.agents = agents\n",
    "        self.mcp_agent = mcp_agent\n",
    "        self.results = []\n",
    "\n",
    "    async def process_question(\n",
    "        self, question: str, question_id: Optional[int] = None\n",
    "    ) -> Dict[str, Any]:\n",
    "        \"\"\"Process a single medical question\"\"\"\n",
    "        try:\n",
    "            # Start conversation between agents\n",
    "            user_proxy = self.agents[\"user_proxy\"]\n",
    "            medical_assistant = self.agents[\"medical_assistant\"]\n",
    "\n",
    "            # Create the conversation\n",
    "            chat_history = await user_proxy.a_initiate_chat(\n",
    "                medical_assistant,\n",
    "                message=f\"\"\"\n",
    "                Question ID: {question_id if question_id else 'N/A'}\n",
    "                Question: {question}\n",
    "                \n",
    "                Please provide a comprehensive answer to this medical question.\n",
    "                Consider the Thai healthcare context and provide practical information.\n",
    "                \"\"\",\n",
    "                max_turns=5,\n",
    "            )\n",
    "\n",
    "            # Extract the response\n",
    "            response = (\n",
    "                chat_history[-1][\"content\"] if chat_history else \"No response generated\"\n",
    "            )\n",
    "\n",
    "            return {\n",
    "                \"question_id\": question_id,\n",
    "                \"question\": question,\n",
    "                \"response\": response,\n",
    "                \"status\": \"success\",\n",
    "            }\n",
    "\n",
    "        except Exception as e:\n",
    "            return {\n",
    "                \"question_id\": question_id,\n",
    "                \"question\": question,\n",
    "                \"response\": f\"Error processing question: {str(e)}\",\n",
    "                \"status\": \"error\",\n",
    "            }\n",
    "\n",
    "    async def run_experiment(self, num_questions: int = 5) -> List[Dict[str, Any]]:\n",
    "        \"\"\"Run the experiment with test questions\"\"\"\n",
    "        print(f\"Starting KMITL Medical Agent Experiment\")\n",
    "        print(f\"Processing {num_questions} questions...\")\n",
    "\n",
    "        # Setup MCP connection\n",
    "        await self.mcp_agent.setup()\n",
    "\n",
    "        # Process test questions\n",
    "        questions_to_process = self.test_data.head(num_questions)\n",
    "\n",
    "        for idx, row in questions_to_process.iterrows():\n",
    "            question_id = row.get(\"id\", idx + 1)\n",
    "            question = row.get(\"question\", \"\")\n",
    "\n",
    "            print(f\"\\nProcessing Question {question_id}: {question[:100]}...\")\n",
    "\n",
    "            result = await self.process_question(question, question_id)\n",
    "            self.results.append(result)\n",
    "\n",
    "            # Add delay to avoid overwhelming the LLM\n",
    "            await asyncio.sleep(1)\n",
    "\n",
    "        # Cleanup MCP connection\n",
    "        await self.mcp_agent.cleanup()\n",
    "\n",
    "        return self.results\n",
    "\n",
    "    def save_results(self, filename: str = \"experiment_results.json\"):\n",
    "        \"\"\"Save experiment results to file\"\"\"\n",
    "        output_path = Path.cwd() / filename\n",
    "\n",
    "        with open(output_path, \"w\", encoding=\"utf-8\") as f:\n",
    "            json.dump(self.results, f, ensure_ascii=False, indent=2)\n",
    "\n",
    "        print(f\"Results saved to: {output_path}\")\n",
    "\n",
    "    def print_results_summary(self):\n",
    "        \"\"\"Print a summary of the experiment results\"\"\"\n",
    "        print(\"\\n\" + \"=\" * 50)\n",
    "        print(\"EXPERIMENT RESULTS SUMMARY\")\n",
    "        print(\"=\" * 50)\n",
    "\n",
    "        successful = sum(1 for r in self.results if r[\"status\"] == \"success\")\n",
    "        failed = sum(1 for r in self.results if r[\"status\"] == \"error\")\n",
    "\n",
    "        print(f\"Total Questions Processed: {len(self.results)}\")\n",
    "        print(f\"Successful Responses: {successful}\")\n",
    "        print(f\"Failed Responses: {failed}\")\n",
    "        print(\n",
    "            f\"Success Rate: {(successful/len(self.results)*100):.1f}%\"\n",
    "            if self.results\n",
    "            else \"0%\"\n",
    "        )\n",
    "\n",
    "        # Show sample responses\n",
    "        print(\"\\nSample Responses:\")\n",
    "        for i, result in enumerate(self.results[:3]):  # Show first 3\n",
    "            print(f\"\\nQuestion {i+1}: {result['question'][:100]}...\")\n",
    "            print(f\"Response: {result['response'][:200]}...\")"
   ]
  },
  {
   "cell_type": "markdown",
   "id": "c6312dd3",
   "metadata": {},
   "source": [
    "## 2. Initialize Experiment"
   ]
  },
  {
   "cell_type": "code",
   "execution_count": null,
   "id": "f4057842",
   "metadata": {},
   "outputs": [],
   "source": [
    "# Create the main experiment agent\n",
    "experiment_agent = KMITLMedicalAgent(test_data, agents, mcp_agent)"
   ]
  },
  {
   "cell_type": "code",
   "execution_count": null,
   "id": "5b70451b",
   "metadata": {},
   "outputs": [],
   "source": [
    "print(\"✓ Experiment agent initialized\")"
   ]
  },
  {
   "cell_type": "markdown",
   "id": "989f907f",
   "metadata": {
    "lines_to_next_cell": 2
   },
   "source": [
    "## 3. Run Experiment"
   ]
  },
  {
   "cell_type": "code",
   "execution_count": null,
   "id": "71d8f409",
   "metadata": {},
   "outputs": [],
   "source": [
    "async def run_experiment(num_questions: int = 5):\n",
    "    \"\"\"Run the experiment\"\"\"\n",
    "    print(f\"\\nRunning experiment with {num_questions} questions...\")\n",
    "\n",
    "    # Run the experiment\n",
    "    results = await experiment_agent.run_experiment(num_questions=num_questions)\n",
    "\n",
    "    # Save and display results\n",
    "    experiment_agent.save_results()\n",
    "    experiment_agent.print_results_summary()\n",
    "\n",
    "    return results"
   ]
  },
  {
   "cell_type": "markdown",
   "id": "bd531681",
   "metadata": {},
   "source": [
    "## 4. Execute Experiment"
   ]
  },
  {
   "cell_type": "markdown",
   "id": "e0da535e",
   "metadata": {},
   "source": [
    "Uncomment the line below to run the experiment\n",
    "results = await run_experiment(num_questions=3)"
   ]
  },
  {
   "cell_type": "code",
   "execution_count": null,
   "id": "148029fc",
   "metadata": {},
   "outputs": [],
   "source": [
    "print(\"✓ Experiment execution setup completed!\")\n",
    "print(\"To run the experiment, uncomment the last line in this cell\")"
   ]
  }
 ],
 "metadata": {
  "kernelspec": {
   "display_name": ".venv",
   "language": "python",
   "name": "python3"
  },
  "language_info": {
   "codemirror_mode": {
    "name": "ipython",
    "version": 3
   },
   "file_extension": ".py",
   "mimetype": "text/x-python",
   "name": "python",
   "nbconvert_exporter": "python",
   "pygments_lexer": "ipython3",
   "version": "3.11.8"
  }
 },
 "nbformat": 4,
 "nbformat_minor": 5
}
