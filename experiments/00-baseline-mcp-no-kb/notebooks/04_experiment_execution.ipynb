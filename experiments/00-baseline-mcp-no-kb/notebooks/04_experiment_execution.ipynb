{
 "cells": [
  {
   "cell_type": "markdown",
   "id": "8044eb1e",
   "metadata": {},
   "source": [
    "# Experiment Execution\n",
    "\n",
    "This notebook runs the KMITL Medical Agent experiment with AutoGen agents and MCP integration."
   ]
  },
  {
   "cell_type": "markdown",
   "id": "6c56e5c8",
   "metadata": {},
   "source": [
    "## 1. Main Experiment Class"
   ]
  },
  {
   "cell_type": "code",
   "execution_count": null,
   "id": "9a106f6c",
   "metadata": {
    "lines_to_next_cell": 1
   },
   "outputs": [],
   "source": [
    "class KMITLMedicalAgent:\n",
    "    \"\"\"Main experiment class for KMITL Medical Agent\"\"\"\n",
    "    \n",
    "    def __init__(self, test_data, agents, mcp_agent):\n",
    "        self.test_data = test_data\n",
    "        self.agents = agents\n",
    "        self.mcp_agent = mcp_agent\n",
    "        self.results = []\n",
    "    \n",
    "    async def process_question(self, question: str, question_id: Optional[int] = None) -> Dict[str, Any]:\n",
    "        \"\"\"Process a single medical question\"\"\"\n",
    "        try:\n",
    "            # Start conversation between agents\n",
    "            user_proxy = self.agents[\"user_proxy\"]\n",
    "            medical_assistant = self.agents[\"medical_assistant\"]\n",
    "            \n",
    "            # Create the conversation\n",
    "            chat_history = await user_proxy.a_initiate_chat(\n",
    "                medical_assistant,\n",
    "                message=f\"\"\"\n",
    "                Question ID: {question_id if question_id else 'N/A'}\n",
    "                Question: {question}\n",
    "                \n",
    "                Please provide a comprehensive answer to this medical question.\n",
    "                Consider the Thai healthcare context and provide practical information.\n",
    "                \"\"\",\n",
    "                max_turns=5\n",
    "            )\n",
    "            \n",
    "            # Extract the response\n",
    "            response = chat_history[-1][\"content\"] if chat_history else \"No response generated\"\n",
    "            \n",
    "            return {\n",
    "                \"question_id\": question_id,\n",
    "                \"question\": question,\n",
    "                \"response\": response,\n",
    "                \"status\": \"success\"\n",
    "            }\n",
    "            \n",
    "        except Exception as e:\n",
    "            return {\n",
    "                \"question_id\": question_id,\n",
    "                \"question\": question,\n",
    "                \"response\": f\"Error processing question: {str(e)}\",\n",
    "                \"status\": \"error\"\n",
    "            }\n",
    "    \n",
    "    async def run_experiment(self, num_questions: int = 5) -> List[Dict[str, Any]]:\n",
    "        \"\"\"Run the experiment with test questions\"\"\"\n",
    "        print(f\"Starting KMITL Medical Agent Experiment\")\n",
    "        print(f\"Processing {num_questions} questions...\")\n",
    "        \n",
    "        # Setup MCP connection\n",
    "        await self.mcp_agent.setup()\n",
    "        \n",
    "        # Process test questions\n",
    "        questions_to_process = self.test_data.head(num_questions)\n",
    "        \n",
    "        for idx, row in questions_to_process.iterrows():\n",
    "            question_id = row.get('id', idx + 1)\n",
    "            question = row.get('question', '')\n",
    "            \n",
    "            print(f\"\\nProcessing Question {question_id}: {question[:100]}...\")\n",
    "            \n",
    "            result = await self.process_question(question, question_id)\n",
    "            self.results.append(result)\n",
    "            \n",
    "            # Add delay to avoid overwhelming the LLM\n",
    "            await asyncio.sleep(1)\n",
    "        \n",
    "        # Cleanup MCP connection\n",
    "        await self.mcp_agent.cleanup()\n",
    "        \n",
    "        return self.results\n",
    "    \n",
    "    def save_results(self, filename: str = \"experiment_results.json\"):\n",
    "        \"\"\"Save experiment results to file\"\"\"\n",
    "        output_path = Path.cwd() / filename\n",
    "        \n",
    "        with open(output_path, 'w', encoding='utf-8') as f:\n",
    "            json.dump(self.results, f, ensure_ascii=False, indent=2)\n",
    "        \n",
    "        print(f\"Results saved to: {output_path}\")\n",
    "    \n",
    "    def print_results_summary(self):\n",
    "        \"\"\"Print a summary of the experiment results\"\"\"\n",
    "        print(\"\\n\" + \"=\"*50)\n",
    "        print(\"EXPERIMENT RESULTS SUMMARY\")\n",
    "        print(\"=\"*50)\n",
    "        \n",
    "        successful = sum(1 for r in self.results if r[\"status\"] == \"success\")\n",
    "        failed = sum(1 for r in self.results if r[\"status\"] == \"error\")\n",
    "        \n",
    "        print(f\"Total Questions Processed: {len(self.results)}\")\n",
    "        print(f\"Successful Responses: {successful}\")\n",
    "        print(f\"Failed Responses: {failed}\")\n",
    "        print(f\"Success Rate: {(successful/len(self.results)*100):.1f}%\" if self.results else \"0%\")\n",
    "        \n",
    "        # Show sample responses\n",
    "        print(\"\\nSample Responses:\")\n",
    "        for i, result in enumerate(self.results[:3]):  # Show first 3\n",
    "            print(f\"\\nQuestion {i+1}: {result['question'][:100]}...\")\n",
    "            print(f\"Response: {result['response'][:200]}...\")"
   ]
  },
  {
   "cell_type": "markdown",
   "id": "497d47a0",
   "metadata": {},
   "source": [
    "## 2. Initialize Experiment"
   ]
  },
  {
   "cell_type": "code",
   "execution_count": null,
   "id": "15832c6e",
   "metadata": {},
   "outputs": [],
   "source": [
    "# Create the main experiment agent\n",
    "experiment_agent = KMITLMedicalAgent(test_data, agents, mcp_agent)"
   ]
  },
  {
   "cell_type": "code",
   "execution_count": null,
   "id": "7ae791a0",
   "metadata": {
    "lines_to_next_cell": 1
   },
   "outputs": [],
   "source": [
    "print(\"✓ Experiment agent initialized\")"
   ]
  },
  {
   "cell_type": "markdown",
   "id": "b65e04cf",
   "metadata": {},
   "source": [
    "## 3. Run Experiment"
   ]
  },
  {
   "cell_type": "code",
   "execution_count": null,
   "id": "cf053592",
   "metadata": {
    "lines_to_next_cell": 1
   },
   "outputs": [],
   "source": [
    "async def run_experiment(num_questions: int = 5):\n",
    "    \"\"\"Run the experiment\"\"\"\n",
    "    print(f\"\\nRunning experiment with {num_questions} questions...\")\n",
    "    \n",
    "    # Run the experiment\n",
    "    results = await experiment_agent.run_experiment(num_questions=num_questions)\n",
    "    \n",
    "    # Save and display results\n",
    "    experiment_agent.save_results()\n",
    "    experiment_agent.print_results_summary()\n",
    "    \n",
    "    return results"
   ]
  },
  {
   "cell_type": "markdown",
   "id": "673875e4",
   "metadata": {},
   "source": [
    "## 4. Execute Experiment"
   ]
  },
  {
   "cell_type": "markdown",
   "id": "8760d866",
   "metadata": {},
   "source": [
    "Uncomment the line below to run the experiment\n",
    "results = await run_experiment(num_questions=3)"
   ]
  },
  {
   "cell_type": "code",
   "execution_count": null,
   "id": "4b6c989c",
   "metadata": {},
   "outputs": [],
   "source": [
    "print(\"✓ Experiment execution setup completed!\")\n",
    "print(\"To run the experiment, uncomment the last line in this cell\") "
   ]
  }
 ],
 "metadata": {
  "kernelspec": {
   "display_name": "Python 3",
   "language": "python",
   "name": "python3"
  }
 },
 "nbformat": 4,
 "nbformat_minor": 5
}
