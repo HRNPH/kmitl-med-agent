{
 "cells": [
  {
   "cell_type": "markdown",
   "id": "9e54b666",
   "metadata": {},
   "source": [
    "# AutoGen Agent Setup\n",
    "\n",
    "This notebook sets up the Microsoft AutoGen agents for the KMITL Medical Agent experiment."
   ]
  },
  {
   "cell_type": "markdown",
   "id": "2b056a0a",
   "metadata": {},
   "source": [
    "## 1. AutoGen Configuration"
   ]
  },
  {
   "cell_type": "code",
   "execution_count": null,
   "id": "3636afcc",
   "metadata": {
    "lines_to_next_cell": 1
   },
   "outputs": [],
   "source": [
    "def setup_autogen_config():\n",
    "    \"\"\"Setup AutoGen configuration with Ollama\"\"\"\n",
    "    config_list = [\n",
    "        {\n",
    "            \"model\": OLLAMA_MODEL,\n",
    "            \"api_base\": OLLAMA_API_URL,\n",
    "            \"api_type\": \"open_ai\",\n",
    "            \"api_key\": \"dummy\",  # Ollama doesn't require real API key\n",
    "        }\n",
    "    ]\n",
    "    return config_list"
   ]
  },
  {
   "cell_type": "code",
   "execution_count": null,
   "id": "3a7f362c",
   "metadata": {
    "lines_to_next_cell": 1
   },
   "outputs": [],
   "source": [
    "# Create the configuration\n",
    "config_list = setup_autogen_config()\n",
    "print(\"✓ AutoGen configuration created\")"
   ]
  },
  {
   "cell_type": "markdown",
   "id": "d5fc4b6c",
   "metadata": {},
   "source": [
    "## 2. Create AutoGen Agents"
   ]
  },
  {
   "cell_type": "code",
   "execution_count": null,
   "id": "f0d95061",
   "metadata": {
    "lines_to_next_cell": 1
   },
   "outputs": [],
   "source": [
    "def setup_agents():\n",
    "    \"\"\"Setup AutoGen agents\"\"\"\n",
    "    \n",
    "    # Medical Assistant Agent\n",
    "    medical_assistant = AssistantAgent(\n",
    "        name=\"medical_assistant\",\n",
    "        system_message=\"\"\"You are a medical assistant specialized in Thai healthcare system. \n",
    "        You help answer questions about:\n",
    "        - Hospital departments and services\n",
    "        - Patient rights and insurance coverage\n",
    "        - Medical procedures and treatments\n",
    "        - Emergency protocols\n",
    "        - Healthcare policies and regulations\n",
    "        \n",
    "        Always provide accurate, helpful information in Thai or English as appropriate.\n",
    "        If you need to access external data or tools, use the available MCP server connections.\"\"\",\n",
    "        llm_config={\n",
    "            \"config_list\": config_list,\n",
    "            \"temperature\": 0.7,\n",
    "            \"max_tokens\": 2000,\n",
    "        }\n",
    "    )\n",
    "    \n",
    "    # User Proxy Agent\n",
    "    user_proxy = UserProxyAgent(\n",
    "        name=\"user_proxy\",\n",
    "        human_input_mode=\"NEVER\",  # Automated mode\n",
    "        max_consecutive_auto_reply=10,\n",
    "        is_termination_msg=lambda x: x.get(\"content\", \"\").rstrip().endswith(\"TERMINATE\"),\n",
    "        code_execution_config={\"work_dir\": \"workspace\"},\n",
    "        llm_config={\n",
    "            \"config_list\": config_list,\n",
    "            \"temperature\": 0.7,\n",
    "        }\n",
    "    )\n",
    "    \n",
    "    return {\n",
    "        \"medical_assistant\": medical_assistant,\n",
    "        \"user_proxy\": user_proxy\n",
    "    }"
   ]
  },
  {
   "cell_type": "code",
   "execution_count": null,
   "id": "302cac49",
   "metadata": {
    "lines_to_next_cell": 1
   },
   "outputs": [],
   "source": [
    "# Create the agents\n",
    "agents = setup_agents()\n",
    "print(\"✓ AutoGen agents created successfully\")"
   ]
  },
  {
   "cell_type": "markdown",
   "id": "3b21771b",
   "metadata": {},
   "source": [
    "## 3. Test Agent Communication"
   ]
  },
  {
   "cell_type": "code",
   "execution_count": null,
   "id": "e35166fc",
   "metadata": {
    "lines_to_next_cell": 1
   },
   "outputs": [],
   "source": [
    "async def test_agent_communication():\n",
    "    \"\"\"Test communication between agents\"\"\"\n",
    "    print(\"\\nTesting agent communication...\")\n",
    "    \n",
    "    user_proxy = agents[\"user_proxy\"]\n",
    "    medical_assistant = agents[\"medical_assistant\"]\n",
    "    \n",
    "    # Test message\n",
    "    test_question = \"แผนกฉุกเฉินเปิดกี่โมง?\"\n",
    "    \n",
    "    try:\n",
    "        # Start conversation\n",
    "        chat_history = await user_proxy.a_initiate_chat(\n",
    "            medical_assistant,\n",
    "            message=f\"Test question: {test_question}\",\n",
    "            max_turns=2\n",
    "        )\n",
    "        \n",
    "        if chat_history:\n",
    "            print(\"✓ Agent communication successful\")\n",
    "            print(f\"Response: {chat_history[-1]['content'][:200]}...\")\n",
    "            return True\n",
    "        else:\n",
    "            print(\"✗ No response from agents\")\n",
    "            return False\n",
    "            \n",
    "    except Exception as e:\n",
    "        print(f\"✗ Agent communication failed: {e}\")\n",
    "        return False"
   ]
  },
  {
   "cell_type": "markdown",
   "id": "d8a2d96d",
   "metadata": {},
   "source": [
    "Test the agents (commented out to avoid blocking)\n",
    "await test_agent_communication()"
   ]
  },
  {
   "cell_type": "code",
   "execution_count": null,
   "id": "05e0dfb7",
   "metadata": {},
   "outputs": [],
   "source": [
    "print(\"✓ AutoGen agent setup completed!\") "
   ]
  }
 ],
 "metadata": {
  "kernelspec": {
   "display_name": "Python 3",
   "language": "python",
   "name": "python3"
  }
 },
 "nbformat": 4,
 "nbformat_minor": 5
}
