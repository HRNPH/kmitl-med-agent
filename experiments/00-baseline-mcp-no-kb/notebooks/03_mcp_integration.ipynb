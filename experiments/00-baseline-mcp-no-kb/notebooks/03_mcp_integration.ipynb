{
 "cells": [
  {
   "cell_type": "markdown",
   "id": "72dd04e4",
   "metadata": {},
   "source": [
    "# MCP Server Integration\n",
    "\n",
    "This notebook implements the Model Context Protocol (MCP) server integration for the KMITL Medical Agent experiment."
   ]
  },
  {
   "cell_type": "markdown",
   "id": "081d5d06",
   "metadata": {},
   "source": [
    "## 1. MCP Client Implementation"
   ]
  },
  {
   "cell_type": "code",
   "execution_count": null,
   "id": "1055f3f5",
   "metadata": {
    "lines_to_next_cell": 1
   },
   "outputs": [],
   "source": [
    "class MCPClient:\n",
    "    \"\"\"Simple MCP client for connecting to MCP server\"\"\"\n",
    "    \n",
    "    def __init__(self, server_url: str):\n",
    "        self.server_url = server_url\n",
    "        self.session = None\n",
    "    \n",
    "    async def connect(self) -> bool:\n",
    "        \"\"\"Connect to MCP server\"\"\"\n",
    "        try:\n",
    "            self.session = aiohttp.ClientSession()\n",
    "            \n",
    "            # Test connection\n",
    "            async with self.session.get(f\"{self.server_url}/health\") as response:\n",
    "                if response.status == 200:\n",
    "                    print(f\"✓ Connected to MCP server at {self.server_url}\")\n",
    "                    return True\n",
    "                else:\n",
    "                    print(f\"✗ MCP server returned status {response.status}\")\n",
    "                    return False\n",
    "                    \n",
    "        except Exception as e:\n",
    "            print(f\"✗ Failed to connect to MCP server: {e}\")\n",
    "            return False\n",
    "    \n",
    "    async def disconnect(self):\n",
    "        \"\"\"Disconnect from MCP server\"\"\"\n",
    "        if self.session:\n",
    "            await self.session.close()\n",
    "            self.session = None\n",
    "    \n",
    "    async def call_tool(self, tool_name: str, parameters: Dict[str, Any]) -> Dict[str, Any]:\n",
    "        \"\"\"Call a tool on the MCP server\"\"\"\n",
    "        if not self.session:\n",
    "            raise Exception(\"Not connected to MCP server\")\n",
    "        \n",
    "        try:\n",
    "            payload = {\n",
    "                \"tool\": tool_name,\n",
    "                \"parameters\": parameters\n",
    "            }\n",
    "            \n",
    "            async with self.session.post(\n",
    "                f\"{self.server_url}/tools/call\",\n",
    "                json=payload\n",
    "            ) as response:\n",
    "                if response.status == 200:\n",
    "                    return await response.json()\n",
    "                else:\n",
    "                    raise Exception(f\"MCP tool call failed: {response.status}\")\n",
    "                    \n",
    "        except Exception as e:\n",
    "            print(f\"Error calling MCP tool {tool_name}: {e}\")\n",
    "            return {\"error\": str(e)}\n",
    "    \n",
    "    async def get_available_tools(self) -> list:\n",
    "        \"\"\"Get list of available tools from MCP server\"\"\"\n",
    "        if not self.session:\n",
    "            raise Exception(\"Not connected to MCP server\")\n",
    "        \n",
    "        try:\n",
    "            async with self.session.get(f\"{self.server_url}/tools/list\") as response:\n",
    "                if response.status == 200:\n",
    "                    return await response.json()\n",
    "                else:\n",
    "                    raise Exception(f\"Failed to get tools list: {response.status}\")\n",
    "                    \n",
    "        except Exception as e:\n",
    "            print(f\"Error getting available tools: {e}\")\n",
    "            return []"
   ]
  },
  {
   "cell_type": "markdown",
   "id": "3b0da9d6",
   "metadata": {},
   "source": [
    "## 2. MCP-Enhanced Agent"
   ]
  },
  {
   "cell_type": "code",
   "execution_count": null,
   "id": "15166e80",
   "metadata": {
    "lines_to_next_cell": 1
   },
   "outputs": [],
   "source": [
    "class MCPEnhancedAgent:\n",
    "    \"\"\"Agent enhanced with MCP capabilities\"\"\"\n",
    "    \n",
    "    def __init__(self, mcp_url: str, autogen_agents: Dict[str, Any]):\n",
    "        self.mcp_client = MCPClient(mcp_url)\n",
    "        self.agents = autogen_agents\n",
    "        self.connected = False\n",
    "    \n",
    "    async def setup(self):\n",
    "        \"\"\"Setup MCP connection\"\"\"\n",
    "        self.connected = await self.mcp_client.connect()\n",
    "        if self.connected:\n",
    "            tools = await self.mcp_client.get_available_tools()\n",
    "            print(f\"Available MCP tools: {tools}\")\n",
    "    \n",
    "    async def process_with_mcp(self, question: str) -> str:\n",
    "        \"\"\"Process question using MCP tools\"\"\"\n",
    "        if not self.connected:\n",
    "            return f\"Error: MCP not connected. Question: {question}\"\n",
    "        \n",
    "        try:\n",
    "            # Example: Use MCP tool to get medical information\n",
    "            result = await self.mcp_client.call_tool(\n",
    "                \"get_medical_info\",\n",
    "                {\"query\": question}\n",
    "            )\n",
    "            \n",
    "            if \"error\" in result:\n",
    "                return f\"Error getting medical info: {result['error']}\"\n",
    "            else:\n",
    "                return result.get(\"response\", \"No response from MCP tool\")\n",
    "                \n",
    "        except Exception as e:\n",
    "            return f\"Error processing with MCP: {e}\"\n",
    "    \n",
    "    async def cleanup(self):\n",
    "        \"\"\"Cleanup MCP connection\"\"\"\n",
    "        await self.mcp_client.disconnect()"
   ]
  },
  {
   "cell_type": "markdown",
   "id": "63b33a36",
   "metadata": {},
   "source": [
    "## 3. Initialize MCP Integration"
   ]
  },
  {
   "cell_type": "code",
   "execution_count": null,
   "id": "fa20f0de",
   "metadata": {},
   "outputs": [],
   "source": [
    "# Create MCP client\n",
    "mcp_client = MCPClient(MCP_SERVER_URL)"
   ]
  },
  {
   "cell_type": "code",
   "execution_count": null,
   "id": "e117cfb1",
   "metadata": {},
   "outputs": [],
   "source": [
    "# Create MCP-enhanced agent\n",
    "mcp_agent = MCPEnhancedAgent(MCP_SERVER_URL, agents)"
   ]
  },
  {
   "cell_type": "code",
   "execution_count": null,
   "id": "0549e420",
   "metadata": {
    "lines_to_next_cell": 1
   },
   "outputs": [],
   "source": [
    "print(\"✓ MCP integration setup completed\")"
   ]
  },
  {
   "cell_type": "markdown",
   "id": "1e59ccfb",
   "metadata": {},
   "source": [
    "## 4. Test MCP Connection"
   ]
  },
  {
   "cell_type": "code",
   "execution_count": null,
   "id": "c4b17525",
   "metadata": {
    "lines_to_next_cell": 1
   },
   "outputs": [],
   "source": [
    "async def test_mcp_connection():\n",
    "    \"\"\"Test MCP server connection\"\"\"\n",
    "    print(\"\\nTesting MCP connection...\")\n",
    "    \n",
    "    try:\n",
    "        # Test connection\n",
    "        connected = await mcp_client.connect()\n",
    "        \n",
    "        if connected:\n",
    "            # Get available tools\n",
    "            tools = await mcp_client.get_available_tools()\n",
    "            print(f\"Available tools: {tools}\")\n",
    "            \n",
    "            # Test tool call\n",
    "            if tools:\n",
    "                test_result = await mcp_client.call_tool(\n",
    "                    tools[0],  # Use first available tool\n",
    "                    {\"test\": \"parameter\"}\n",
    "                )\n",
    "                print(f\"Test tool call result: {test_result}\")\n",
    "            \n",
    "            # Cleanup\n",
    "            await mcp_client.disconnect()\n",
    "            return True\n",
    "        else:\n",
    "            print(\"✗ MCP connection failed\")\n",
    "            return False\n",
    "            \n",
    "    except Exception as e:\n",
    "        print(f\"✗ MCP test failed: {e}\")\n",
    "        return False"
   ]
  },
  {
   "cell_type": "markdown",
   "id": "bf3b9e10",
   "metadata": {},
   "source": [
    "Test MCP connection (commented out to avoid blocking)\n",
    "await test_mcp_connection()"
   ]
  },
  {
   "cell_type": "code",
   "execution_count": null,
   "id": "0b23dcd5",
   "metadata": {},
   "outputs": [],
   "source": [
    "print(\"✓ MCP integration ready!\") "
   ]
  }
 ],
 "metadata": {
  "kernelspec": {
   "display_name": "Python 3",
   "language": "python",
   "name": "python3"
  }
 },
 "nbformat": 4,
 "nbformat_minor": 5
}
