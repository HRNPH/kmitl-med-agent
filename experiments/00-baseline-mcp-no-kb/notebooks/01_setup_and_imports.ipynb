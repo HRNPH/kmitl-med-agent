{
 "cells": [
  {
   "cell_type": "markdown",
   "id": "3edb6647",
   "metadata": {},
   "source": [
    "# KMITL Medical Agent Experiment - Setup and Imports\n",
    "\n",
    "This notebook sets up the environment and imports required libraries for the KMITL Medical Agent experiment."
   ]
  },
  {
   "cell_type": "markdown",
   "id": "abc176c3",
   "metadata": {},
   "source": [
    "## 1. Environment Setup"
   ]
  },
  {
   "cell_type": "code",
   "execution_count": null,
   "id": "3b5f74c8",
   "metadata": {},
   "outputs": [],
   "source": [
    "import os\n",
    "import sys\n",
    "from pathlib import Path\n",
    "from dotenv import load_dotenv"
   ]
  },
  {
   "cell_type": "code",
   "execution_count": null,
   "id": "f33bcf00",
   "metadata": {},
   "outputs": [],
   "source": [
    "# Load environment variables\n",
    "load_dotenv()"
   ]
  },
  {
   "cell_type": "code",
   "execution_count": null,
   "id": "fc27bb02",
   "metadata": {},
   "outputs": [],
   "source": [
    "# Add the current directory to Python path\n",
    "current_dir = Path.cwd()\n",
    "sys.path.insert(0, str(current_dir))"
   ]
  },
  {
   "cell_type": "code",
   "execution_count": null,
   "id": "f302e031",
   "metadata": {},
   "outputs": [],
   "source": [
    "print(\"✓ Environment setup completed\")"
   ]
  },
  {
   "cell_type": "markdown",
   "id": "9d2a6408",
   "metadata": {},
   "source": [
    "## 2. Install and Import Dependencies"
   ]
  },
  {
   "cell_type": "code",
   "execution_count": null,
   "id": "9c8096bb",
   "metadata": {},
   "outputs": [],
   "source": [
    "# Install required packages if not already installed\n",
    "try:\n",
    "    import autogen\n",
    "    print(\"✓ autogen already installed\")\n",
    "except ImportError:\n",
    "    print(\"Installing autogen...\")\n",
    "    import subprocess\n",
    "    subprocess.check_call([sys.executable, \"-m\", \"pip\", \"install\", \"pyautogen\"])"
   ]
  },
  {
   "cell_type": "code",
   "execution_count": null,
   "id": "5ebb07d2",
   "metadata": {},
   "outputs": [],
   "source": [
    "try:\n",
    "    import pandas as pd\n",
    "    print(\"✓ pandas already installed\")\n",
    "except ImportError:\n",
    "    print(\"Installing pandas...\")\n",
    "    import subprocess\n",
    "    subprocess.check_call([sys.executable, \"-m\", \"pip\", \"install\", \"pandas\"])"
   ]
  },
  {
   "cell_type": "code",
   "execution_count": null,
   "id": "03bc8b11",
   "metadata": {},
   "outputs": [],
   "source": [
    "# Import all required libraries\n",
    "import asyncio\n",
    "import json\n",
    "from typing import Dict, Any, List, Optional\n",
    "import autogen\n",
    "from autogen import Agent, AssistantAgent, UserProxyAgent\n",
    "import pandas as pd\n",
    "import aiohttp"
   ]
  },
  {
   "cell_type": "code",
   "execution_count": null,
   "id": "5271bf6d",
   "metadata": {},
   "outputs": [],
   "source": [
    "print(\"✓ All dependencies imported successfully\")"
   ]
  },
  {
   "cell_type": "markdown",
   "id": "ff3ed1bb",
   "metadata": {},
   "source": [
    "## 3. Configuration"
   ]
  },
  {
   "cell_type": "code",
   "execution_count": null,
   "id": "df26a152",
   "metadata": {},
   "outputs": [],
   "source": [
    "# Get environment variables\n",
    "OLLAMA_API_URL = os.getenv('OLLAMA_API_URL', 'http://localhost:11434')\n",
    "MCP_SERVER_URL = os.getenv('KMITL_MCP_SERVER_URL', 'http://localhost:3000')\n",
    "OLLAMA_MODEL = os.getenv('OLLAMA_MODEL', 'llama3.2')"
   ]
  },
  {
   "cell_type": "code",
   "execution_count": null,
   "id": "100dc55a",
   "metadata": {
    "lines_to_next_cell": 1
   },
   "outputs": [],
   "source": [
    "print(f\"Configuration:\")\n",
    "print(f\"  Ollama URL: {OLLAMA_API_URL}\")\n",
    "print(f\"  MCP Server URL: {MCP_SERVER_URL}\")\n",
    "print(f\"  Model: {OLLAMA_MODEL}\")"
   ]
  },
  {
   "cell_type": "markdown",
   "id": "40fee785",
   "metadata": {},
   "source": [
    "## 4. Load Test Data"
   ]
  },
  {
   "cell_type": "code",
   "execution_count": null,
   "id": "8e8b2b87",
   "metadata": {
    "lines_to_next_cell": 1
   },
   "outputs": [],
   "source": [
    "def load_test_data():\n",
    "    \"\"\"Load test data from CSV file\"\"\"\n",
    "    try:\n",
    "        # Navigate to the data directory\n",
    "        data_path = current_dir.parent.parent.parent / \"data\" / \"test.csv\"\n",
    "        if data_path.exists():\n",
    "            df = pd.read_csv(data_path)\n",
    "            print(f\"✓ Loaded {len(df)} test questions from {data_path}\")\n",
    "            return df\n",
    "        else:\n",
    "            print(f\"✗ Test data not found at: {data_path}\")\n",
    "            return pd.DataFrame()\n",
    "    except Exception as e:\n",
    "        print(f\"✗ Error loading test data: {e}\")\n",
    "        return pd.DataFrame()"
   ]
  },
  {
   "cell_type": "code",
   "execution_count": null,
   "id": "c33abb4a",
   "metadata": {},
   "outputs": [],
   "source": [
    "# Load the test data\n",
    "test_data = load_test_data()"
   ]
  },
  {
   "cell_type": "code",
   "execution_count": null,
   "id": "ae5118e1",
   "metadata": {},
   "outputs": [],
   "source": [
    "if not test_data.empty:\n",
    "    print(f\"Sample questions:\")\n",
    "    for i, row in test_data.head(3).iterrows():\n",
    "        question = row.get('question', '')[:100] + \"...\" if len(row.get('question', '')) > 100 else row.get('question', '')\n",
    "        print(f\"  {i+1}. {question}\")"
   ]
  },
  {
   "cell_type": "code",
   "execution_count": null,
   "id": "0a917945",
   "metadata": {},
   "outputs": [],
   "source": [
    "print(\"\\n✓ Setup and imports completed successfully!\") "
   ]
  }
 ],
 "metadata": {
  "kernelspec": {
   "display_name": "Python 3",
   "language": "python",
   "name": "python3"
  }
 },
 "nbformat": 4,
 "nbformat_minor": 5
}
